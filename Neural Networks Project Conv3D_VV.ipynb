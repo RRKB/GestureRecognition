{
 "cells": [
  {
   "cell_type": "markdown",
   "metadata": {},
   "source": [
    "# Gesture Recognition\n",
    "In this group project, you are going to build a 3D Conv model that will be able to predict the 5 gestures correctly. Please import the following libraries to get started."
   ]
  },
  {
   "cell_type": "code",
   "execution_count": 3,
   "metadata": {},
   "outputs": [
    {
     "ename": "ModuleNotFoundError",
     "evalue": "No module named 'scipy.imageio'",
     "output_type": "error",
     "traceback": [
      "\u001b[1;31m---------------------------------------------------------------------------\u001b[0m",
      "\u001b[1;31mModuleNotFoundError\u001b[0m                       Traceback (most recent call last)",
      "\u001b[1;32m<ipython-input-3-966bb04c0535>\u001b[0m in \u001b[0;36m<module>\u001b[1;34m\u001b[0m\n\u001b[0;32m      2\u001b[0m \u001b[1;32mimport\u001b[0m \u001b[0mos\u001b[0m\u001b[1;33m\u001b[0m\u001b[1;33m\u001b[0m\u001b[0m\n\u001b[0;32m      3\u001b[0m \u001b[1;31m#from scipy.misc import imread, imresize\u001b[0m\u001b[1;33m\u001b[0m\u001b[1;33m\u001b[0m\u001b[1;33m\u001b[0m\u001b[0m\n\u001b[1;32m----> 4\u001b[1;33m \u001b[1;32mfrom\u001b[0m \u001b[0mscipy\u001b[0m\u001b[1;33m.\u001b[0m\u001b[0mimageio\u001b[0m \u001b[1;32mimport\u001b[0m \u001b[0mimread\u001b[0m\u001b[1;33m,\u001b[0m \u001b[0mimresize\u001b[0m\u001b[1;33m\u001b[0m\u001b[1;33m\u001b[0m\u001b[0m\n\u001b[0m\u001b[0;32m      5\u001b[0m \u001b[1;32mimport\u001b[0m \u001b[0mdatetime\u001b[0m\u001b[1;33m\u001b[0m\u001b[1;33m\u001b[0m\u001b[0m\n",
      "\u001b[1;31mModuleNotFoundError\u001b[0m: No module named 'scipy.imageio'"
     ]
    }
   ],
   "source": [
    "import numpy as np\n",
    "import os\n",
    "#from scipy.misc import imread, imresize\n",
    "from scipy.imageio import imread, imresize\n",
    "import datetime"
   ]
  },
  {
   "cell_type": "markdown",
   "metadata": {},
   "source": [
    "We set the random seed so that the results don't vary drastically."
   ]
  },
  {
   "cell_type": "code",
   "execution_count": 2,
   "metadata": {},
   "outputs": [
    {
     "name": "stderr",
     "output_type": "stream",
     "text": [
      "Using TensorFlow backend.\n"
     ]
    }
   ],
   "source": [
    "np.random.seed(30)\n",
    "import random as rn\n",
    "rn.seed(30)\n",
    "from keras import backend as K\n",
    "import tensorflow as tf\n",
    "tf.set_random_seed(30)"
   ]
  },
  {
   "cell_type": "markdown",
   "metadata": {},
   "source": [
    "In this block, you read the folder names for training and validation. You also set the `batch_size` here. Note that you set the batch size in such a way that you are able to use the GPU in full capacity. You keep increasing the batch size until the machine throws an error."
   ]
  },
  {
   "cell_type": "code",
   "execution_count": 3,
   "metadata": {},
   "outputs": [],
   "source": [
    "train_doc = np.random.permutation(open('./Project_data/train.csv').readlines())\n",
    "val_doc = np.random.permutation(open('./Project_data/val.csv').readlines())\n",
    "batch_size = 24"
   ]
  },
  {
   "cell_type": "markdown",
   "metadata": {},
   "source": [
    "## Generator\n",
    "This is one of the most important part of the code. The overall structure of the generator has been given. In the generator, you are going to preprocess the images as you have images of 2 different dimensions as well as create a batch of video frames. You have to experiment with some of the parts of the generator function such that you get high accuracy."
   ]
  },
  {
   "cell_type": "code",
   "execution_count": 4,
   "metadata": {},
   "outputs": [],
   "source": [
    "def generator(source_path, folder_list, batch_size):\n",
    "    print( 'Source path = ', source_path, '; batch size =', batch_size)\n",
    "    img_idx = list(range(8,26)) # [0,1,2,4,6,8,10,12,14,16,18,20,22,24,26,27,28,29]\n",
    "    while True:\n",
    "        t = np.random.permutation(folder_list)\n",
    "        num_batches = int(len(t)/batch_size)\n",
    "        for batch in range(num_batches):\n",
    "            batch_data = np.zeros((batch_size,18,100,100,3))\n",
    "            batch_labels = np.zeros((batch_size,5))\n",
    "            for folder in range(batch_size):\n",
    "                imgs = os.listdir(source_path+'/'+ t[folder + (batch*batch_size)].split(';')[0])\n",
    "                for idx,item in enumerate(img_idx):\n",
    "                    image = imread(source_path+'/'+ t[folder + (batch*batch_size)].strip().split(';')[0]+'/'+imgs[item]).astype(np.float32)\n",
    "                    if image.shape[1] == 160:\n",
    "                        image = imresize(image[:,20:140,:],(100,100)).astype(np.float32)\n",
    "                    else:\n",
    "                        image = imresize(image,(100,100)).astype(np.float32)\n",
    "                    \n",
    "                    batch_data[folder,idx,:,:,0] = image[:,:,0] - 104\n",
    "                    batch_data[folder,idx,:,:,1] = image[:,:,1] - 117\n",
    "                    batch_data[folder,idx,:,:,2] = image[:,:,2] - 123\n",
    "                    \n",
    "                batch_labels[folder, int(t[folder + (batch*batch_size)].strip().split(';')[2])] = 1\n",
    "            yield batch_data, batch_labels\n",
    "\n",
    "        if (len(t)%batch_size) != 0:\n",
    "            batch_data = np.zeros((len(t)%batch_size,18,100,100,3))\n",
    "            batch_labels = np.zeros((len(t)%batch_size,5))\n",
    "            for folder in range(len(t)%batch_size):\n",
    "                imgs = os.listdir(source_path+'/'+ t[folder + (num_batches*batch_size)].split(';')[0])\n",
    "                for idx,item in enumerate(img_idx):\n",
    "                    image = imread(source_path+'/'+ t[folder + (num_batches*batch_size)].strip().split(';')[0]+'/'+imgs[item]).astype(np.float32)\n",
    "                    if image.shape[1] == 160:\n",
    "                        image = imresize(image[:,20:140,:],(100,100)).astype(np.float32)\n",
    "                    else:\n",
    "                        image = imresize(image,(100,100)).astype(np.float32)\n",
    "\n",
    "                    batch_data[folder,idx,:,:,0] = image[:,:,0] - 104\n",
    "                    batch_data[folder,idx,:,:,1] = image[:,:,1] - 117\n",
    "                    batch_data[folder,idx,:,:,2] = image[:,:,2] - 123\n",
    "\n",
    "                batch_labels[folder, int(t[folder + (num_batches*batch_size)].strip().split(';')[2])] = 1\n",
    "\n",
    "            yield batch_data, batch_labels"
   ]
  },
  {
   "cell_type": "code",
   "execution_count": 5,
   "metadata": {},
   "outputs": [
    {
     "name": "stdout",
     "output_type": "stream",
     "text": [
      "# training sequences = 663\n",
      "# validation sequences = 100\n",
      "# epochs = 30\n"
     ]
    }
   ],
   "source": [
    "curr_dt_time = datetime.datetime.now()\n",
    "train_path = './Project_data/train'\n",
    "val_path = './Project_data/val'\n",
    "num_train_sequences = len(train_doc)\n",
    "print('# training sequences =', num_train_sequences)\n",
    "num_val_sequences = len(val_doc)\n",
    "print('# validation sequences =', num_val_sequences)\n",
    "num_epochs = 30\n",
    "print ('# epochs =', num_epochs)"
   ]
  },
  {
   "cell_type": "markdown",
   "metadata": {},
   "source": [
    "## Model\n",
    "Here you make the model using different functionalities that Keras provides. Remember to use `Conv3D` and `MaxPooling3D` and not `Conv2D` and `Maxpooling2D`. Also remember that the last layer is the softmax. Remember that the network is designed in such a way that the model is able to fit in the memory of the webcam."
   ]
  },
  {
   "cell_type": "code",
   "execution_count": 6,
   "metadata": {},
   "outputs": [],
   "source": [
    "from keras.models import Sequential\n",
    "from keras.layers import Dense, GRU, Dropout, Flatten, BatchNormalization, Activation\n",
    "from keras.layers.convolutional import Conv3D, MaxPooling3D\n",
    "from keras.callbacks import ModelCheckpoint, ReduceLROnPlateau\n",
    "from keras import optimizers\n",
    "\n",
    "model = Sequential()\n",
    "model.add(Conv3D(64, (3,3,3), strides=(1,1,1), padding='same', input_shape=(18,100,100,3)))\n",
    "model.add(BatchNormalization())\n",
    "model.add(Activation('elu'))\n",
    "model.add(MaxPooling3D(pool_size=(2,2,1), strides=(2,2,1)))\n",
    "\n",
    "model.add(Conv3D(128, (3,3,3), strides=(1,1,1), padding='same'))\n",
    "model.add(BatchNormalization())\n",
    "model.add(Activation('elu'))\n",
    "model.add(MaxPooling3D(pool_size=(2,2,2), strides=(2,2,2)))\n",
    "\n",
    "model.add(Conv3D(256, (3,3,3), strides=(1,1,1), padding='same'))\n",
    "model.add(BatchNormalization())\n",
    "model.add(Activation('elu'))\n",
    "model.add(MaxPooling3D(pool_size=(2,2,2), strides=(2,2,2)))\n",
    "\n",
    "model.add(Conv3D(256, (3,3,3), strides=(1,1,1), padding='same'))\n",
    "model.add(BatchNormalization())\n",
    "model.add(Activation('elu'))\n",
    "model.add(MaxPooling3D(pool_size=(2,2,2), strides=(2,2,2)))\n",
    "\n",
    "model.add(Flatten())\n",
    "model.add(Dropout(0.5))\n",
    "model.add(Dense(512, activation='elu'))\n",
    "model.add(Dropout(0.5))\n",
    "model.add(Dense(5, activation='softmax'))"
   ]
  },
  {
   "cell_type": "markdown",
   "metadata": {},
   "source": [
    "Now that you have written the model, the next step is to `compile` the model. When you print the `summary` of the model, you'll see the total number of parameters you have to train."
   ]
  },
  {
   "cell_type": "code",
   "execution_count": 7,
   "metadata": {},
   "outputs": [
    {
     "name": "stdout",
     "output_type": "stream",
     "text": [
      "_________________________________________________________________\n",
      "Layer (type)                 Output Shape              Param #   \n",
      "=================================================================\n",
      "conv3d_1 (Conv3D)            (None, 18, 100, 100, 64)  5248      \n",
      "_________________________________________________________________\n",
      "batch_normalization_1 (Batch (None, 18, 100, 100, 64)  256       \n",
      "_________________________________________________________________\n",
      "activation_1 (Activation)    (None, 18, 100, 100, 64)  0         \n",
      "_________________________________________________________________\n",
      "max_pooling3d_1 (MaxPooling3 (None, 9, 50, 100, 64)    0         \n",
      "_________________________________________________________________\n",
      "conv3d_2 (Conv3D)            (None, 9, 50, 100, 128)   221312    \n",
      "_________________________________________________________________\n",
      "batch_normalization_2 (Batch (None, 9, 50, 100, 128)   512       \n",
      "_________________________________________________________________\n",
      "activation_2 (Activation)    (None, 9, 50, 100, 128)   0         \n",
      "_________________________________________________________________\n",
      "max_pooling3d_2 (MaxPooling3 (None, 4, 25, 50, 128)    0         \n",
      "_________________________________________________________________\n",
      "conv3d_3 (Conv3D)            (None, 4, 25, 50, 256)    884992    \n",
      "_________________________________________________________________\n",
      "batch_normalization_3 (Batch (None, 4, 25, 50, 256)    1024      \n",
      "_________________________________________________________________\n",
      "activation_3 (Activation)    (None, 4, 25, 50, 256)    0         \n",
      "_________________________________________________________________\n",
      "max_pooling3d_3 (MaxPooling3 (None, 2, 12, 25, 256)    0         \n",
      "_________________________________________________________________\n",
      "conv3d_4 (Conv3D)            (None, 2, 12, 25, 256)    1769728   \n",
      "_________________________________________________________________\n",
      "batch_normalization_4 (Batch (None, 2, 12, 25, 256)    1024      \n",
      "_________________________________________________________________\n",
      "activation_4 (Activation)    (None, 2, 12, 25, 256)    0         \n",
      "_________________________________________________________________\n",
      "max_pooling3d_4 (MaxPooling3 (None, 1, 6, 12, 256)     0         \n",
      "_________________________________________________________________\n",
      "flatten_1 (Flatten)          (None, 18432)             0         \n",
      "_________________________________________________________________\n",
      "dropout_1 (Dropout)          (None, 18432)             0         \n",
      "_________________________________________________________________\n",
      "dense_1 (Dense)              (None, 512)               9437696   \n",
      "_________________________________________________________________\n",
      "dropout_2 (Dropout)          (None, 512)               0         \n",
      "_________________________________________________________________\n",
      "dense_2 (Dense)              (None, 5)                 2565      \n",
      "=================================================================\n",
      "Total params: 12,324,357\n",
      "Trainable params: 12,322,949\n",
      "Non-trainable params: 1,408\n",
      "_________________________________________________________________\n",
      "None\n"
     ]
    }
   ],
   "source": [
    "sgd = optimizers.SGD(lr=0.001, decay=1e-6, momentum=0.7, nesterov=True)\n",
    "model.compile(optimizer=sgd, loss='categorical_crossentropy', metrics=['categorical_accuracy'])\n",
    "print (model.summary())"
   ]
  },
  {
   "cell_type": "markdown",
   "metadata": {},
   "source": [
    "Let us create the `train_generator` and the `val_generator` which will be used in `.fit_generator`."
   ]
  },
  {
   "cell_type": "code",
   "execution_count": 8,
   "metadata": {},
   "outputs": [],
   "source": [
    "train_generator = generator(train_path, train_doc, batch_size)\n",
    "val_generator = generator(val_path, val_doc, batch_size)"
   ]
  },
  {
   "cell_type": "code",
   "execution_count": 9,
   "metadata": {},
   "outputs": [
    {
     "name": "stderr",
     "output_type": "stream",
     "text": [
      "/mnt/disks/user/anaconda3/lib/python3.6/site-packages/keras/callbacks.py:999: UserWarning: `epsilon` argument is deprecated and will be removed, use `min_delta` instead.\n",
      "  warnings.warn('`epsilon` argument is deprecated and '\n"
     ]
    }
   ],
   "source": [
    "model_name = 'model_vv' + '_' + str(curr_dt_time).replace(' ','').replace(':','_') + '/'\n",
    "    \n",
    "if not os.path.exists(model_name):\n",
    "    os.mkdir(model_name)\n",
    "        \n",
    "filepath = model_name + 'model_vv-{epoch:05d}-{loss:.5f}-{categorical_accuracy:.5f}-{val_loss:.5f}-{val_categorical_accuracy:.5f}.h5'\n",
    "\n",
    "checkpoint = ModelCheckpoint(filepath, monitor='val_loss', verbose=1, save_best_only=False, save_weights_only=False, mode='auto', period=1)\n",
    "\n",
    "LR = ReduceLROnPlateau(monitor='val_loss', factor=0.5, patience=2, verbose=1, mode='min', epsilon=0.0001, cooldown=0, min_lr=0.00001)\n",
    "callbacks_list = [checkpoint, LR]"
   ]
  },
  {
   "cell_type": "code",
   "execution_count": 10,
   "metadata": {},
   "outputs": [],
   "source": [
    "if (num_train_sequences%batch_size) == 0:\n",
    "    steps_per_epoch = int(num_train_sequences/batch_size)\n",
    "else:\n",
    "    steps_per_epoch = (num_train_sequences//batch_size) + 1\n",
    "\n",
    "if (num_val_sequences%batch_size) == 0:\n",
    "    validation_steps = int(num_val_sequences/batch_size)\n",
    "else:\n",
    "    validation_steps = (num_val_sequences//batch_size) + 1"
   ]
  },
  {
   "cell_type": "markdown",
   "metadata": {},
   "source": [
    "Let us now fit the model. This will start training the model and with the help of the checkpoints, you'll be able to save the model at the end of each epoch."
   ]
  },
  {
   "cell_type": "code",
   "execution_count": 11,
   "metadata": {
    "scrolled": false
   },
   "outputs": [
    {
     "name": "stdout",
     "output_type": "stream",
     "text": [
      "Source path = Source path =  ./Project_data/train ; batch size = 24\n",
      "Epoch 1/30\n",
      " ./Project_data/val ; batch size = 24\n"
     ]
    },
    {
     "name": "stderr",
     "output_type": "stream",
     "text": [
      "/mnt/disks/user/anaconda3/lib/python3.6/site-packages/ipykernel_launcher.py:13: DeprecationWarning: `imread` is deprecated!\n",
      "`imread` is deprecated in SciPy 1.0.0, and will be removed in 1.2.0.\n",
      "Use ``imageio.imread`` instead.\n",
      "  del sys.path[0]\n",
      "/mnt/disks/user/anaconda3/lib/python3.6/site-packages/ipykernel_launcher.py:15: DeprecationWarning: `imresize` is deprecated!\n",
      "`imresize` is deprecated in SciPy 1.0.0, and will be removed in 1.2.0.\n",
      "Use ``skimage.transform.resize`` instead.\n",
      "  from ipykernel import kernelapp as app\n",
      "/mnt/disks/user/anaconda3/lib/python3.6/site-packages/ipykernel_launcher.py:17: DeprecationWarning: `imresize` is deprecated!\n",
      "`imresize` is deprecated in SciPy 1.0.0, and will be removed in 1.2.0.\n",
      "Use ``skimage.transform.resize`` instead.\n",
      "/mnt/disks/user/anaconda3/lib/python3.6/site-packages/ipykernel_launcher.py:32: DeprecationWarning: `imread` is deprecated!\n",
      "`imread` is deprecated in SciPy 1.0.0, and will be removed in 1.2.0.\n",
      "Use ``imageio.imread`` instead.\n",
      "/mnt/disks/user/anaconda3/lib/python3.6/site-packages/ipykernel_launcher.py:34: DeprecationWarning: `imresize` is deprecated!\n",
      "`imresize` is deprecated in SciPy 1.0.0, and will be removed in 1.2.0.\n",
      "Use ``skimage.transform.resize`` instead.\n",
      "/mnt/disks/user/anaconda3/lib/python3.6/site-packages/ipykernel_launcher.py:36: DeprecationWarning: `imresize` is deprecated!\n",
      "`imresize` is deprecated in SciPy 1.0.0, and will be removed in 1.2.0.\n",
      "Use ``skimage.transform.resize`` instead.\n"
     ]
    },
    {
     "name": "stdout",
     "output_type": "stream",
     "text": [
      "28/28 [==============================] - 133s 5s/step - loss: 3.3733 - categorical_accuracy: 0.3848 - val_loss: 1.5215 - val_categorical_accuracy: 0.4900\n",
      "\n",
      "Epoch 00001: saving model to model_vv_2019-09-2110_17_14.940047/model_vv-00001-3.37511-0.38462-1.52154-0.49000.h5\n",
      "Epoch 2/30\n",
      "28/28 [==============================] - 72s 3s/step - loss: 1.6493 - categorical_accuracy: 0.4937 - val_loss: 1.0419 - val_categorical_accuracy: 0.6100\n",
      "\n",
      "Epoch 00002: saving model to model_vv_2019-09-2110_17_14.940047/model_vv-00002-1.65024-0.49321-1.04190-0.61000.h5\n",
      "Epoch 3/30\n",
      "28/28 [==============================] - 74s 3s/step - loss: 1.3193 - categorical_accuracy: 0.5648 - val_loss: 0.7928 - val_categorical_accuracy: 0.7000\n",
      "\n",
      "Epoch 00003: saving model to model_vv_2019-09-2110_17_14.940047/model_vv-00003-1.32092-0.56259-0.79281-0.70000.h5\n",
      "Epoch 4/30\n",
      "28/28 [==============================] - 72s 3s/step - loss: 1.0736 - categorical_accuracy: 0.6211 - val_loss: 0.9173 - val_categorical_accuracy: 0.6900\n",
      "\n",
      "Epoch 00004: saving model to model_vv_2019-09-2110_17_14.940047/model_vv-00004-1.07497-0.62142-0.91734-0.69000.h5\n",
      "Epoch 5/30\n",
      "28/28 [==============================] - 72s 3s/step - loss: 0.9641 - categorical_accuracy: 0.6533 - val_loss: 0.7647 - val_categorical_accuracy: 0.7200\n",
      "\n",
      "Epoch 00005: saving model to model_vv_2019-09-2110_17_14.940047/model_vv-00005-0.96161-0.65309-0.76473-0.72000.h5\n",
      "Epoch 6/30\n",
      "28/28 [==============================] - 72s 3s/step - loss: 0.8888 - categorical_accuracy: 0.7030 - val_loss: 0.7529 - val_categorical_accuracy: 0.7400\n",
      "\n",
      "Epoch 00006: saving model to model_vv_2019-09-2110_17_14.940047/model_vv-00006-0.88601-0.70437-0.75293-0.74000.h5\n",
      "Epoch 7/30\n",
      "28/28 [==============================] - 72s 3s/step - loss: 0.7377 - categorical_accuracy: 0.7413 - val_loss: 0.7102 - val_categorical_accuracy: 0.7400\n",
      "\n",
      "Epoch 00007: saving model to model_vv_2019-09-2110_17_14.940047/model_vv-00007-0.73987-0.74057-0.71015-0.74000.h5\n",
      "Epoch 8/30\n",
      "28/28 [==============================] - 72s 3s/step - loss: 0.7030 - categorical_accuracy: 0.7286 - val_loss: 0.7688 - val_categorical_accuracy: 0.7600\n",
      "\n",
      "Epoch 00008: saving model to model_vv_2019-09-2110_17_14.940047/model_vv-00008-0.70295-0.72851-0.76877-0.76000.h5\n",
      "Epoch 9/30\n",
      "28/28 [==============================] - 72s 3s/step - loss: 0.6329 - categorical_accuracy: 0.7581 - val_loss: 0.8653 - val_categorical_accuracy: 0.7100\n",
      "\n",
      "Epoch 00009: saving model to model_vv_2019-09-2110_17_14.940047/model_vv-00009-0.63004-0.76018-0.86529-0.71000.h5\n",
      "\n",
      "Epoch 00009: ReduceLROnPlateau reducing learning rate to 0.0005000000237487257.\n",
      "Epoch 10/30\n",
      "28/28 [==============================] - 72s 3s/step - loss: 0.5811 - categorical_accuracy: 0.8054 - val_loss: 0.6867 - val_categorical_accuracy: 0.7600\n",
      "\n",
      "Epoch 00010: saving model to model_vv_2019-09-2110_17_14.940047/model_vv-00010-0.57587-0.80543-0.68669-0.76000.h5\n",
      "Epoch 11/30\n",
      "28/28 [==============================] - 72s 3s/step - loss: 0.4824 - categorical_accuracy: 0.8217 - val_loss: 0.6186 - val_categorical_accuracy: 0.7600\n",
      "\n",
      "Epoch 00011: saving model to model_vv_2019-09-2110_17_14.940047/model_vv-00011-0.48295-0.82202-0.61859-0.76000.h5\n",
      "Epoch 12/30\n",
      "28/28 [==============================] - 72s 3s/step - loss: 0.4739 - categorical_accuracy: 0.8249 - val_loss: 0.6081 - val_categorical_accuracy: 0.7900\n",
      "\n",
      "Epoch 00012: saving model to model_vv_2019-09-2110_17_14.940047/model_vv-00012-0.47747-0.82353-0.60807-0.79000.h5\n",
      "Epoch 13/30\n",
      "28/28 [==============================] - 71s 3s/step - loss: 0.4544 - categorical_accuracy: 0.8179 - val_loss: 0.6651 - val_categorical_accuracy: 0.7800\n",
      "\n",
      "Epoch 00013: saving model to model_vv_2019-09-2110_17_14.940047/model_vv-00013-0.45126-0.81900-0.66510-0.78000.h5\n",
      "Epoch 14/30\n",
      "28/28 [==============================] - 71s 3s/step - loss: 0.3994 - categorical_accuracy: 0.8473 - val_loss: 0.6961 - val_categorical_accuracy: 0.7400\n",
      "\n",
      "Epoch 00014: saving model to model_vv_2019-09-2110_17_14.940047/model_vv-00014-0.40268-0.84615-0.69605-0.74000.h5\n",
      "\n",
      "Epoch 00014: ReduceLROnPlateau reducing learning rate to 0.0002500000118743628.\n",
      "Epoch 15/30\n",
      "28/28 [==============================] - 71s 3s/step - loss: 0.3474 - categorical_accuracy: 0.8587 - val_loss: 0.6118 - val_categorical_accuracy: 0.8000\n",
      "\n",
      "Epoch 00015: saving model to model_vv_2019-09-2110_17_14.940047/model_vv-00015-0.34168-0.86124-0.61176-0.80000.h5\n",
      "Epoch 16/30\n",
      "28/28 [==============================] - 71s 3s/step - loss: 0.3533 - categorical_accuracy: 0.8622 - val_loss: 0.6283 - val_categorical_accuracy: 0.7900\n",
      "\n",
      "Epoch 00016: saving model to model_vv_2019-09-2110_17_14.940047/model_vv-00016-0.35523-0.86124-0.62827-0.79000.h5\n",
      "\n",
      "Epoch 00016: ReduceLROnPlateau reducing learning rate to 0.0001250000059371814.\n",
      "Epoch 17/30\n",
      "28/28 [==============================] - 71s 3s/step - loss: 0.3498 - categorical_accuracy: 0.8658 - val_loss: 0.6148 - val_categorical_accuracy: 0.7800\n",
      "\n",
      "Epoch 00017: saving model to model_vv_2019-09-2110_17_14.940047/model_vv-00017-0.35119-0.86576-0.61480-0.78000.h5\n",
      "Epoch 18/30\n",
      "28/28 [==============================] - 71s 3s/step - loss: 0.3602 - categorical_accuracy: 0.8673 - val_loss: 0.6261 - val_categorical_accuracy: 0.8000\n",
      "\n",
      "Epoch 00018: saving model to model_vv_2019-09-2110_17_14.940047/model_vv-00018-0.36116-0.86727-0.62609-0.80000.h5\n",
      "\n",
      "Epoch 00018: ReduceLROnPlateau reducing learning rate to 6.25000029685907e-05.\n",
      "Epoch 19/30\n",
      "28/28 [==============================] - 71s 3s/step - loss: 0.2945 - categorical_accuracy: 0.8813 - val_loss: 0.6007 - val_categorical_accuracy: 0.7800\n",
      "\n",
      "Epoch 00019: saving model to model_vv_2019-09-2110_17_14.940047/model_vv-00019-0.29211-0.88235-0.60069-0.78000.h5\n",
      "Epoch 20/30\n",
      "28/28 [==============================] - 71s 3s/step - loss: 0.3697 - categorical_accuracy: 0.8485 - val_loss: 0.5817 - val_categorical_accuracy: 0.7700\n",
      "\n",
      "Epoch 00020: saving model to model_vv_2019-09-2110_17_14.940047/model_vv-00020-0.36946-0.84917-0.58173-0.77000.h5\n",
      "Epoch 21/30\n",
      "28/28 [==============================] - 71s 3s/step - loss: 0.3048 - categorical_accuracy: 0.8883 - val_loss: 0.5766 - val_categorical_accuracy: 0.7900\n",
      "\n",
      "Epoch 00021: saving model to model_vv_2019-09-2110_17_14.940047/model_vv-00021-0.30812-0.88688-0.57664-0.79000.h5\n",
      "Epoch 22/30\n",
      "28/28 [==============================] - 71s 3s/step - loss: 0.2687 - categorical_accuracy: 0.8836 - val_loss: 0.5789 - val_categorical_accuracy: 0.8000\n",
      "\n",
      "Epoch 00022: saving model to model_vv_2019-09-2110_17_14.940047/model_vv-00022-0.26939-0.88386-0.57890-0.80000.h5\n",
      "Epoch 23/30\n",
      "28/28 [==============================] - 71s 3s/step - loss: 0.2891 - categorical_accuracy: 0.8896 - val_loss: 0.5761 - val_categorical_accuracy: 0.7900\n",
      "\n",
      "Epoch 00023: saving model to model_vv_2019-09-2110_17_14.940047/model_vv-00023-0.28763-0.88989-0.57606-0.79000.h5\n",
      "Epoch 24/30\n",
      "28/28 [==============================] - 71s 3s/step - loss: 0.3147 - categorical_accuracy: 0.8702 - val_loss: 0.5840 - val_categorical_accuracy: 0.7800\n",
      "\n",
      "Epoch 00024: saving model to model_vv_2019-09-2110_17_14.940047/model_vv-00024-0.31657-0.87029-0.58403-0.78000.h5\n",
      "Epoch 25/30\n",
      "28/28 [==============================] - 71s 3s/step - loss: 0.2929 - categorical_accuracy: 0.8881 - val_loss: 0.5759 - val_categorical_accuracy: 0.7800\n",
      "\n",
      "Epoch 00025: saving model to model_vv_2019-09-2110_17_14.940047/model_vv-00025-0.28983-0.88839-0.57588-0.78000.h5\n",
      "Epoch 26/30\n",
      "28/28 [==============================] - 71s 3s/step - loss: 0.2764 - categorical_accuracy: 0.8896 - val_loss: 0.5714 - val_categorical_accuracy: 0.8000\n",
      "\n",
      "Epoch 00026: saving model to model_vv_2019-09-2110_17_14.940047/model_vv-00026-0.27498-0.88989-0.57140-0.80000.h5\n",
      "Epoch 27/30\n",
      "28/28 [==============================] - 71s 3s/step - loss: 0.3395 - categorical_accuracy: 0.8808 - val_loss: 0.5653 - val_categorical_accuracy: 0.8000\n",
      "\n",
      "Epoch 00027: saving model to model_vv_2019-09-2110_17_14.940047/model_vv-00027-0.32572-0.88537-0.56532-0.80000.h5\n",
      "Epoch 28/30\n",
      "28/28 [==============================] - 71s 3s/step - loss: 0.2449 - categorical_accuracy: 0.9098 - val_loss: 0.5605 - val_categorical_accuracy: 0.7900\n",
      "\n",
      "Epoch 00028: saving model to model_vv_2019-09-2110_17_14.940047/model_vv-00028-0.24485-0.90950-0.56054-0.79000.h5\n",
      "Epoch 29/30\n",
      "28/28 [==============================] - 71s 3s/step - loss: 0.2578 - categorical_accuracy: 0.9128 - val_loss: 0.5775 - val_categorical_accuracy: 0.8000\n",
      "\n",
      "Epoch 00029: saving model to model_vv_2019-09-2110_17_14.940047/model_vv-00029-0.26022-0.91252-0.57754-0.80000.h5\n",
      "Epoch 30/30\n",
      "28/28 [==============================] - 71s 3s/step - loss: 0.3084 - categorical_accuracy: 0.8911 - val_loss: 0.5693 - val_categorical_accuracy: 0.8000\n",
      "\n",
      "Epoch 00030: saving model to model_vv_2019-09-2110_17_14.940047/model_vv-00030-0.30626-0.89140-0.56933-0.80000.h5\n",
      "\n",
      "Epoch 00030: ReduceLROnPlateau reducing learning rate to 3.125000148429535e-05.\n"
     ]
    },
    {
     "data": {
      "text/plain": [
       "<keras.callbacks.History at 0x7f4e0b3008d0>"
      ]
     },
     "execution_count": 11,
     "metadata": {},
     "output_type": "execute_result"
    }
   ],
   "source": [
    "model.fit_generator(train_generator, steps_per_epoch=steps_per_epoch, epochs=num_epochs, verbose=1, \n",
    "                    callbacks=callbacks_list, validation_data=val_generator, \n",
    "                    validation_steps=validation_steps, class_weight=None, workers=1, initial_epoch=0)"
   ]
  },
  {
   "cell_type": "code",
   "execution_count": null,
   "metadata": {
    "collapsed": true
   },
   "outputs": [],
   "source": []
  }
 ],
 "metadata": {
  "kernelspec": {
   "display_name": "PY368",
   "language": "python",
   "name": "py368"
  },
  "language_info": {
   "codemirror_mode": {
    "name": "ipython",
    "version": 3
   },
   "file_extension": ".py",
   "mimetype": "text/x-python",
   "name": "python",
   "nbconvert_exporter": "python",
   "pygments_lexer": "ipython3",
   "version": "3.6.8"
  }
 },
 "nbformat": 4,
 "nbformat_minor": 2
}
